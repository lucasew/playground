{
 "cells": [
  {
   "cell_type": "code",
   "execution_count": 1,
   "id": "9e264cca",
   "metadata": {},
   "outputs": [
    {
     "name": "stdout",
     "output_type": "stream",
     "text": [
      "/home/lucasew/.var/app/com.visualstudio.code/cache/uv/archive-v0/ui2yyo-_NnQyfGstnN29D\n"
     ]
    }
   ],
   "source": [
    "# vscode is not passing PATH properly\n",
    "import os\n",
    "os.environ[\"PATH\"] += \":/home/lucasew/.nix-profile/bin\"\n",
    "!echo $VIRTUAL_ENV"
   ]
  },
  {
   "cell_type": "code",
   "execution_count": 4,
   "id": "3faddf08",
   "metadata": {},
   "outputs": [
    {
     "name": "stdout",
     "output_type": "stream",
     "text": [
      "/home/lucasew/.var/app/com.visualstudio.code/cache/uv/archive-v0/k7PmXSHTFOxh-am6U_d2z/bin:/home/lucasew/.var/app/com.visualstudio.code/data/uv/python/cpython-3.13.5-linux-x86_64-gnu/bin:/app/bin:/app/bin:/app/bin:/usr/bin:/home/lucasew/.var/app/com.visualstudio.code/data/node_modules/bin:/home/lucasew/.nix-profile/bin\n"
     ]
    }
   ],
   "source": [
    "!echo $PATH"
   ]
  },
  {
   "cell_type": "code",
   "execution_count": 3,
   "id": "2c854f50",
   "metadata": {},
   "outputs": [
    {
     "name": "stdout",
     "output_type": "stream",
     "text": [
      "\u001b[2K\u001b[2mResolved \u001b[1m1 package\u001b[0m \u001b[2min 266ms\u001b[0m\u001b[0m                                          \u001b[0m\n",
      "\u001b[2K\u001b[2mInstalled \u001b[1m1 package\u001b[0m \u001b[2min 65ms\u001b[0m\u001b[0m                                 \u001b[0m\n",
      " \u001b[32m+\u001b[39m \u001b[1mnumpy\u001b[0m\u001b[2m==2.3.1\u001b[0m\n"
     ]
    }
   ],
   "source": [
    "!uv pip install numpy\n"
   ]
  },
  {
   "cell_type": "code",
   "execution_count": 4,
   "id": "04f65924",
   "metadata": {},
   "outputs": [],
   "source": [
    "import numpy as np"
   ]
  }
 ],
 "metadata": {
  "kernelspec": {
   "display_name": "uv-3.13",
   "language": "python",
   "name": "uv-3.13"
  },
  "language_info": {
   "codemirror_mode": {
    "name": "ipython",
    "version": 3
   },
   "file_extension": ".py",
   "mimetype": "text/x-python",
   "name": "python",
   "nbconvert_exporter": "python",
   "pygments_lexer": "ipython3",
   "version": "3.13.5"
  }
 },
 "nbformat": 4,
 "nbformat_minor": 5
}
